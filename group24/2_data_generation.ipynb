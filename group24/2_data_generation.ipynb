{
 "cells": [
  {
   "cell_type": "code",
   "execution_count": 1,
   "metadata": {},
   "outputs": [],
   "source": [
    "import warnings\n",
    "warnings.filterwarnings(\"ignore\")\n",
    "\n",
    "# Basics - Data Handling\n",
    "import numpy as np\n",
    "import pandas as pd\n",
    "\n",
    "# Visualization\n",
    "import missingno\n",
    "import seaborn as sns\n",
    "import matplotlib.pyplot as plt\n",
    "\n",
    "# Miscellaneous\n",
    "from collections import Counter\n",
    "\n",
    "# Data Imputation, Data Sampling\n",
    "from missingpy import MissForest\n",
    "from imblearn.over_sampling import SMOTE\n",
    "\n",
    "# sklearn Classification and Model Building\n",
    "from sklearn.svm import SVC\n",
    "from sklearn.pipeline import make_pipeline\n",
    "from sklearn.preprocessing import StandardScaler\n",
    "from sklearn.model_selection import train_test_split\n",
    "\n",
    "# Scoring functions\n",
    "from sklearn.metrics import f1_score\n",
    "from sklearn.metrics import accuracy_score"
   ]
  },
  {
   "cell_type": "markdown",
   "metadata": {},
   "source": [
    " ## Load imputed data"
   ]
  },
  {
   "cell_type": "code",
   "execution_count": 2,
   "metadata": {},
   "outputs": [
    {
     "data": {
      "text/html": [
       "<div>\n",
       "<style scoped>\n",
       "    .dataframe tbody tr th:only-of-type {\n",
       "        vertical-align: middle;\n",
       "    }\n",
       "\n",
       "    .dataframe tbody tr th {\n",
       "        vertical-align: top;\n",
       "    }\n",
       "\n",
       "    .dataframe thead th {\n",
       "        text-align: right;\n",
       "    }\n",
       "</style>\n",
       "<table border=\"1\" class=\"dataframe\">\n",
       "  <thead>\n",
       "    <tr style=\"text-align: right;\">\n",
       "      <th></th>\n",
       "      <th>Income</th>\n",
       "      <th>Age</th>\n",
       "      <th>Score1</th>\n",
       "      <th>Score3</th>\n",
       "      <th>Score4</th>\n",
       "      <th>Score5</th>\n",
       "      <th>Loan type_1.0</th>\n",
       "      <th>Occupation type_1.0</th>\n",
       "      <th>Occupation type_2.0</th>\n",
       "    </tr>\n",
       "  </thead>\n",
       "  <tbody>\n",
       "    <tr>\n",
       "      <th>0</th>\n",
       "      <td>14767.28013</td>\n",
       "      <td>1.0</td>\n",
       "      <td>0.016885</td>\n",
       "      <td>22.521523</td>\n",
       "      <td>600.911200</td>\n",
       "      <td>3464.613291</td>\n",
       "      <td>1</td>\n",
       "      <td>1</td>\n",
       "      <td>0</td>\n",
       "    </tr>\n",
       "    <tr>\n",
       "      <th>1</th>\n",
       "      <td>15272.26775</td>\n",
       "      <td>0.0</td>\n",
       "      <td>0.240375</td>\n",
       "      <td>5.349117</td>\n",
       "      <td>600.888816</td>\n",
       "      <td>3374.921455</td>\n",
       "      <td>1</td>\n",
       "      <td>1</td>\n",
       "      <td>0</td>\n",
       "    </tr>\n",
       "  </tbody>\n",
       "</table>\n",
       "</div>"
      ],
      "text/plain": [
       "        Income  Age    Score1     Score3      Score4       Score5  \\\n",
       "0  14767.28013  1.0  0.016885  22.521523  600.911200  3464.613291   \n",
       "1  15272.26775  0.0  0.240375   5.349117  600.888816  3374.921455   \n",
       "\n",
       "   Loan type_1.0  Occupation type_1.0  Occupation type_2.0  \n",
       "0              1                    1                    0  \n",
       "1              1                    1                    0  "
      ]
     },
     "metadata": {},
     "output_type": "display_data"
    },
    {
     "data": {
      "text/html": [
       "<div>\n",
       "<style scoped>\n",
       "    .dataframe tbody tr th:only-of-type {\n",
       "        vertical-align: middle;\n",
       "    }\n",
       "\n",
       "    .dataframe tbody tr th {\n",
       "        vertical-align: top;\n",
       "    }\n",
       "\n",
       "    .dataframe thead th {\n",
       "        text-align: right;\n",
       "    }\n",
       "</style>\n",
       "<table border=\"1\" class=\"dataframe\">\n",
       "  <thead>\n",
       "    <tr style=\"text-align: right;\">\n",
       "      <th></th>\n",
       "      <th>Income</th>\n",
       "      <th>Age</th>\n",
       "      <th>Score1</th>\n",
       "      <th>Score3</th>\n",
       "      <th>Score4</th>\n",
       "      <th>Score5</th>\n",
       "      <th>Loan type_1.0</th>\n",
       "      <th>Occupation type_1.0</th>\n",
       "      <th>Occupation type_2.0</th>\n",
       "    </tr>\n",
       "  </thead>\n",
       "  <tbody>\n",
       "    <tr>\n",
       "      <th>0</th>\n",
       "      <td>16691.51975</td>\n",
       "      <td>1.0</td>\n",
       "      <td>0.348808</td>\n",
       "      <td>12.506668</td>\n",
       "      <td>607.396052</td>\n",
       "      <td>3440.172169</td>\n",
       "      <td>1</td>\n",
       "      <td>0</td>\n",
       "      <td>0</td>\n",
       "    </tr>\n",
       "    <tr>\n",
       "      <th>1</th>\n",
       "      <td>14782.20015</td>\n",
       "      <td>0.0</td>\n",
       "      <td>0.426270</td>\n",
       "      <td>12.976712</td>\n",
       "      <td>599.808710</td>\n",
       "      <td>3517.084962</td>\n",
       "      <td>0</td>\n",
       "      <td>0</td>\n",
       "      <td>1</td>\n",
       "    </tr>\n",
       "  </tbody>\n",
       "</table>\n",
       "</div>"
      ],
      "text/plain": [
       "        Income  Age    Score1     Score3      Score4       Score5  \\\n",
       "0  16691.51975  1.0  0.348808  12.506668  607.396052  3440.172169   \n",
       "1  14782.20015  0.0  0.426270  12.976712  599.808710  3517.084962   \n",
       "\n",
       "   Loan type_1.0  Occupation type_1.0  Occupation type_2.0  \n",
       "0              1                    0                    0  \n",
       "1              0                    0                    1  "
      ]
     },
     "metadata": {},
     "output_type": "display_data"
    }
   ],
   "source": [
    "X_train = pd.read_csv(\"datasets/train_final.csv\", index_col=0)\n",
    "Y_train = X_train[\"y\"]\n",
    "X_train.drop([\"y\"], axis=1, inplace=True)\n",
    "display(X_train.head(2))\n",
    "\n",
    "X_test = pd.read_csv(\"datasets/test_final.csv\", index_col=0)\n",
    "display(X_test.head(2))"
   ]
  },
  {
   "cell_type": "markdown",
   "metadata": {},
   "source": [
    "## SMOTE Synthetic Data Generation"
   ]
  },
  {
   "cell_type": "code",
   "execution_count": 3,
   "metadata": {},
   "outputs": [
    {
     "name": "stdout",
     "output_type": "stream",
     "text": [
      "Before SMOTE: Counter({0.0: 56075, 1.0: 3925})\n",
      "After SMOTE: Counter({0.0: 56075, 1.0: 56075})\n"
     ]
    }
   ],
   "source": [
    "# Setting up testing and training sets\n",
    "x_train, x_val, y_train, y_val = train_test_split(X_train, Y_train, test_size=0.25, random_state=42)\n",
    "\n",
    "print(\"Before SMOTE:\", Counter(y_train))\n",
    "sm = SMOTE(random_state=42, sampling_strategy=1.0)\n",
    "x_train_sm, y_train_sm = sm.fit_sample(x_train, y_train)\n",
    "print(\"After SMOTE:\", Counter(y_train_sm))"
   ]
  },
  {
   "cell_type": "code",
   "execution_count": 4,
   "metadata": {},
   "outputs": [
    {
     "data": {
      "image/png": "[encoded data removed]",
      "text/plain": [
       "<Figure size 864x288 with 2 Axes>"
      ]
     },
     "metadata": {
      "needs_background": "light"
     },
     "output_type": "display_data"
    }
   ],
   "source": [
    "fig, axes = plt.subplots(nrows=1, ncols=2, figsize=[12,4])\n",
    "y_train.value_counts().plot.bar(grid=True, ax=axes[0], title=\"Before SMOTE\")\n",
    "y_train_sm.value_counts().plot.bar(grid=True, ax=axes[1], title=\"After SMOTE\")\n",
    "plt.show()"
   ]
  },
  {
   "cell_type": "markdown",
   "metadata": {},
   "source": [
    "## Saving the SMOTE train data and Validation split"
   ]
  },
  {
   "cell_type": "code",
   "execution_count": 5,
   "metadata": {},
   "outputs": [],
   "source": [
    "x_train_sm[\"y\"] = y_train_sm\n",
    "x_train_sm.to_csv(\"datasets/train_smote.csv\")\n",
    "x_train_sm.drop([\"y\"], axis=1, inplace=True)\n",
    "\n",
    "x_val[\"y\"] = y_val\n",
    "x_val.to_csv(\"datasets/validation.csv\")\n",
    "x_val.drop([\"y\"], axis=1, inplace=True)"
   ]
  },
  {
   "cell_type": "code",
   "execution_count": null,
   "metadata": {},
   "outputs": [],
   "source": []
  }
 ],
 "metadata": {
  "kernelspec": {
   "display_name": "Python 3",
   "language": "python",
   "name": "python3"
  },
  "language_info": {
   "codemirror_mode": {
    "name": "ipython",
    "version": 3
   },
   "file_extension": ".py",
   "mimetype": "text/x-python",
   "name": "python",
   "nbconvert_exporter": "python",
   "pygments_lexer": "ipython3",
   "version": "3.8.5"
  }
 },
 "nbformat": 4,
 "nbformat_minor": 4
}
