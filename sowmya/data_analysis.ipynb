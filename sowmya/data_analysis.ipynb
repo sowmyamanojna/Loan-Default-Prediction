{
 "cells": [
  {
   "cell_type": "code",
   "execution_count": 1,
   "metadata": {},
   "outputs": [],
   "source": [
    "import warnings\n",
    "warnings.filterwarnings(\"ignore\")\n",
    "\n",
    "import missingno\n",
    "import numpy as np\n",
    "import pandas as pd\n",
    "import seaborn as sns\n",
    "import matplotlib.pyplot as plt\n",
    "from missingpy import MissForest\n",
    "\n",
    "from sklearn.svm import SVC\n",
    "from sklearn.metrics import f1_score\n",
    "from imblearn.over_sampling import SMOTE\n",
    "from sklearn.pipeline import make_pipeline\n",
    "from sklearn.metrics import accuracy_score\n",
    "from sklearn.preprocessing import StandardScaler\n",
    "from sklearn.model_selection import train_test_split"
   ]
  },
  {
   "cell_type": "code",
   "execution_count": 2,
   "metadata": {},
   "outputs": [],
   "source": [
    "X_train = pd.read_csv(\"random_forest_imputed.csv\").drop([\"Unnamed: 0\"], axis=1)\n",
    "y_train = X_train[\"y\"]\n",
    "X_train.drop([\"y\"], axis=1, inplace=True)\n",
    "X_train = pd.get_dummies(X_train, columns=[\"Loan type\", \"Occupation type\"], drop_first=True)\n",
    "\n",
    "X_test = pd.read_csv('../datasets/test_x.csv')"
   ]
  },
  {
   "cell_type": "code",
   "execution_count": 3,
   "metadata": {},
   "outputs": [
    {
     "data": {
      "text/html": [
       "<div>\n",
       "<style scoped>\n",
       "    .dataframe tbody tr th:only-of-type {\n",
       "        vertical-align: middle;\n",
       "    }\n",
       "\n",
       "    .dataframe tbody tr th {\n",
       "        vertical-align: top;\n",
       "    }\n",
       "\n",
       "    .dataframe thead th {\n",
       "        text-align: right;\n",
       "    }\n",
       "</style>\n",
       "<table border=\"1\" class=\"dataframe\">\n",
       "  <thead>\n",
       "    <tr style=\"text-align: right;\">\n",
       "      <th></th>\n",
       "      <th>Expense</th>\n",
       "      <th>Income</th>\n",
       "      <th>Age</th>\n",
       "      <th>Score1</th>\n",
       "      <th>Score2</th>\n",
       "      <th>Score3</th>\n",
       "      <th>Score4</th>\n",
       "      <th>Score5</th>\n",
       "      <th>Loan type_1.0</th>\n",
       "      <th>Occupation type_1.0</th>\n",
       "      <th>Occupation type_2.0</th>\n",
       "    </tr>\n",
       "  </thead>\n",
       "  <tbody>\n",
       "    <tr>\n",
       "      <th>0</th>\n",
       "      <td>1830.943788</td>\n",
       "      <td>14767.28013</td>\n",
       "      <td>1.0</td>\n",
       "      <td>0.016885</td>\n",
       "      <td>205.196182</td>\n",
       "      <td>22.521523</td>\n",
       "      <td>600.911200</td>\n",
       "      <td>3464.613291</td>\n",
       "      <td>1</td>\n",
       "      <td>1</td>\n",
       "      <td>0</td>\n",
       "    </tr>\n",
       "    <tr>\n",
       "      <th>1</th>\n",
       "      <td>1645.302546</td>\n",
       "      <td>15272.26775</td>\n",
       "      <td>0.0</td>\n",
       "      <td>0.240375</td>\n",
       "      <td>194.266317</td>\n",
       "      <td>5.349117</td>\n",
       "      <td>600.888816</td>\n",
       "      <td>3374.921455</td>\n",
       "      <td>1</td>\n",
       "      <td>1</td>\n",
       "      <td>0</td>\n",
       "    </tr>\n",
       "    <tr>\n",
       "      <th>2</th>\n",
       "      <td>1555.026392</td>\n",
       "      <td>17482.49734</td>\n",
       "      <td>0.0</td>\n",
       "      <td>0.213921</td>\n",
       "      <td>183.529871</td>\n",
       "      <td>-1.054954</td>\n",
       "      <td>598.596944</td>\n",
       "      <td>3331.304886</td>\n",
       "      <td>0</td>\n",
       "      <td>1</td>\n",
       "      <td>0</td>\n",
       "    </tr>\n",
       "    <tr>\n",
       "      <th>3</th>\n",
       "      <td>1681.231935</td>\n",
       "      <td>16257.66493</td>\n",
       "      <td>0.0</td>\n",
       "      <td>0.303909</td>\n",
       "      <td>191.228965</td>\n",
       "      <td>6.971750</td>\n",
       "      <td>602.447203</td>\n",
       "      <td>3392.275849</td>\n",
       "      <td>0</td>\n",
       "      <td>1</td>\n",
       "      <td>0</td>\n",
       "    </tr>\n",
       "    <tr>\n",
       "      <th>4</th>\n",
       "      <td>1777.648916</td>\n",
       "      <td>16316.29914</td>\n",
       "      <td>1.0</td>\n",
       "      <td>0.301090</td>\n",
       "      <td>224.074728</td>\n",
       "      <td>11.218489</td>\n",
       "      <td>605.947340</td>\n",
       "      <td>3438.864083</td>\n",
       "      <td>1</td>\n",
       "      <td>0</td>\n",
       "      <td>0</td>\n",
       "    </tr>\n",
       "    <tr>\n",
       "      <th>...</th>\n",
       "      <td>...</td>\n",
       "      <td>...</td>\n",
       "      <td>...</td>\n",
       "      <td>...</td>\n",
       "      <td>...</td>\n",
       "      <td>...</td>\n",
       "      <td>...</td>\n",
       "      <td>...</td>\n",
       "      <td>...</td>\n",
       "      <td>...</td>\n",
       "      <td>...</td>\n",
       "    </tr>\n",
       "    <tr>\n",
       "      <th>79995</th>\n",
       "      <td>1470.317116</td>\n",
       "      <td>16659.49663</td>\n",
       "      <td>0.0</td>\n",
       "      <td>0.208757</td>\n",
       "      <td>172.526308</td>\n",
       "      <td>-5.332184</td>\n",
       "      <td>596.648261</td>\n",
       "      <td>3290.377932</td>\n",
       "      <td>0</td>\n",
       "      <td>0</td>\n",
       "      <td>1</td>\n",
       "    </tr>\n",
       "    <tr>\n",
       "      <th>79996</th>\n",
       "      <td>1923.617480</td>\n",
       "      <td>14910.36890</td>\n",
       "      <td>0.0</td>\n",
       "      <td>0.201837</td>\n",
       "      <td>186.252458</td>\n",
       "      <td>15.425841</td>\n",
       "      <td>600.855069</td>\n",
       "      <td>3509.388221</td>\n",
       "      <td>1</td>\n",
       "      <td>1</td>\n",
       "      <td>0</td>\n",
       "    </tr>\n",
       "    <tr>\n",
       "      <th>79997</th>\n",
       "      <td>1711.147154</td>\n",
       "      <td>15962.25945</td>\n",
       "      <td>1.0</td>\n",
       "      <td>0.226396</td>\n",
       "      <td>196.098150</td>\n",
       "      <td>8.161353</td>\n",
       "      <td>601.360722</td>\n",
       "      <td>3406.734018</td>\n",
       "      <td>0</td>\n",
       "      <td>1</td>\n",
       "      <td>0</td>\n",
       "    </tr>\n",
       "    <tr>\n",
       "      <th>79998</th>\n",
       "      <td>1673.822523</td>\n",
       "      <td>15525.27413</td>\n",
       "      <td>0.0</td>\n",
       "      <td>0.101090</td>\n",
       "      <td>186.390184</td>\n",
       "      <td>3.381393</td>\n",
       "      <td>596.750750</td>\n",
       "      <td>3388.700770</td>\n",
       "      <td>1</td>\n",
       "      <td>0</td>\n",
       "      <td>1</td>\n",
       "    </tr>\n",
       "    <tr>\n",
       "      <th>79999</th>\n",
       "      <td>1486.290579</td>\n",
       "      <td>16207.20250</td>\n",
       "      <td>0.0</td>\n",
       "      <td>0.187832</td>\n",
       "      <td>182.131337</td>\n",
       "      <td>-3.979278</td>\n",
       "      <td>597.251640</td>\n",
       "      <td>3298.096529</td>\n",
       "      <td>0</td>\n",
       "      <td>0</td>\n",
       "      <td>1</td>\n",
       "    </tr>\n",
       "  </tbody>\n",
       "</table>\n",
       "<p>80000 rows × 11 columns</p>\n",
       "</div>"
      ],
      "text/plain": [
       "           Expense       Income  Age    Score1      Score2     Score3  \\\n",
       "0      1830.943788  14767.28013  1.0  0.016885  205.196182  22.521523   \n",
       "1      1645.302546  15272.26775  0.0  0.240375  194.266317   5.349117   \n",
       "2      1555.026392  17482.49734  0.0  0.213921  183.529871  -1.054954   \n",
       "3      1681.231935  16257.66493  0.0  0.303909  191.228965   6.971750   \n",
       "4      1777.648916  16316.29914  1.0  0.301090  224.074728  11.218489   \n",
       "...            ...          ...  ...       ...         ...        ...   \n",
       "79995  1470.317116  16659.49663  0.0  0.208757  172.526308  -5.332184   \n",
       "79996  1923.617480  14910.36890  0.0  0.201837  186.252458  15.425841   \n",
       "79997  1711.147154  15962.25945  1.0  0.226396  196.098150   8.161353   \n",
       "79998  1673.822523  15525.27413  0.0  0.101090  186.390184   3.381393   \n",
       "79999  1486.290579  16207.20250  0.0  0.187832  182.131337  -3.979278   \n",
       "\n",
       "           Score4       Score5  Loan type_1.0  Occupation type_1.0  \\\n",
       "0      600.911200  3464.613291              1                    1   \n",
       "1      600.888816  3374.921455              1                    1   \n",
       "2      598.596944  3331.304886              0                    1   \n",
       "3      602.447203  3392.275849              0                    1   \n",
       "4      605.947340  3438.864083              1                    0   \n",
       "...           ...          ...            ...                  ...   \n",
       "79995  596.648261  3290.377932              0                    0   \n",
       "79996  600.855069  3509.388221              1                    1   \n",
       "79997  601.360722  3406.734018              0                    1   \n",
       "79998  596.750750  3388.700770              1                    0   \n",
       "79999  597.251640  3298.096529              0                    0   \n",
       "\n",
       "       Occupation type_2.0  \n",
       "0                        0  \n",
       "1                        0  \n",
       "2                        0  \n",
       "3                        0  \n",
       "4                        0  \n",
       "...                    ...  \n",
       "79995                    1  \n",
       "79996                    0  \n",
       "79997                    0  \n",
       "79998                    1  \n",
       "79999                    1  \n",
       "\n",
       "[80000 rows x 11 columns]"
      ]
     },
     "execution_count": 3,
     "metadata": {},
     "output_type": "execute_result"
    }
   ],
   "source": [
    "X_train"
   ]
  },
  {
   "cell_type": "code",
   "execution_count": 4,
   "metadata": {},
   "outputs": [],
   "source": [
    "# Setting up testing and training sets\n",
    "X_train, X_test, y_train, y_test = train_test_split(X_train, y_train, test_size=0.25, random_state=42)\n",
    "\n",
    "sm = SMOTE(random_state=42, sampling_strategy=1.0)\n",
    "X_train, y_train = sm.fit_sample(X_train, y_train)"
   ]
  },
  {
   "cell_type": "code",
   "execution_count": 5,
   "metadata": {},
   "outputs": [
    {
     "data": {
      "text/plain": [
       "0.9699687917967008"
      ]
     },
     "execution_count": 5,
     "metadata": {},
     "output_type": "execute_result"
    }
   ],
   "source": [
    "clf = make_pipeline(StandardScaler(), SVC())\n",
    "clf.fit(X_train, y_train)\n",
    "y_pred = clf.predict(X_train)\n",
    "\n",
    "accuracy_score(y_train, y_pred)"
   ]
  },
  {
   "cell_type": "code",
   "execution_count": 6,
   "metadata": {},
   "outputs": [
    {
     "data": {
      "text/plain": [
       "0.9695330450672118"
      ]
     },
     "execution_count": 6,
     "metadata": {},
     "output_type": "execute_result"
    }
   ],
   "source": [
    "f1_score(y_train, y_pred)"
   ]
  },
  {
   "cell_type": "code",
   "execution_count": 7,
   "metadata": {},
   "outputs": [
    {
     "data": {
      "text/plain": [
       "0.9765"
      ]
     },
     "execution_count": 7,
     "metadata": {},
     "output_type": "execute_result"
    }
   ],
   "source": [
    "y_test_pred = clf.predict(X_test)\n",
    "\n",
    "accuracy_score(y_test, y_test_pred)"
   ]
  },
  {
   "cell_type": "code",
   "execution_count": 8,
   "metadata": {},
   "outputs": [
    {
     "data": {
      "text/plain": [
       "0.8320228734810579"
      ]
     },
     "execution_count": 8,
     "metadata": {},
     "output_type": "execute_result"
    }
   ],
   "source": [
    "f1_score(y_test, y_test_pred)"
   ]
  },
  {
   "cell_type": "code",
   "execution_count": null,
   "metadata": {},
   "outputs": [],
   "source": []
  }
 ],
 "metadata": {
  "kernelspec": {
   "display_name": "Python 3",
   "language": "python",
   "name": "python3"
  },
  "language_info": {
   "codemirror_mode": {
    "name": "ipython",
    "version": 3
   },
   "file_extension": ".py",
   "mimetype": "text/x-python",
   "name": "python",
   "nbconvert_exporter": "python",
   "pygments_lexer": "ipython3",
   "version": "3.8.5"
  }
 },
 "nbformat": 4,
 "nbformat_minor": 4
}
